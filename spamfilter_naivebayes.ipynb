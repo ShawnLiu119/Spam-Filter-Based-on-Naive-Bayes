{
  "nbformat": 4,
  "nbformat_minor": 0,
  "metadata": {
    "colab": {
      "provenance": [],
      "authorship_tag": "ABX9TyPNIWcrdGCyDdDnZAszlBrz",
      "include_colab_link": true
    },
    "kernelspec": {
      "name": "python3",
      "display_name": "Python 3"
    },
    "language_info": {
      "name": "python"
    }
  },
  "cells": [
    {
      "cell_type": "markdown",
      "metadata": {
        "id": "view-in-github",
        "colab_type": "text"
      },
      "source": [
        "<a href=\"https://colab.research.google.com/github/ShawnLiu119/Spam-Filter-Based-on-Naive-Bayes/blob/master/spamfilter_naivebayes.ipynb\" target=\"_parent\"><img src=\"https://colab.research.google.com/assets/colab-badge.svg\" alt=\"Open In Colab\"/></a>"
      ]
    },
    {
      "cell_type": "code",
      "execution_count": 3,
      "metadata": {
        "id": "BVU4Q6Tm3DHt",
        "colab": {
          "base_uri": "https://localhost:8080/"
        },
        "outputId": "e50de369-8dcd-498e-e5f2-eb36d9310582"
      },
      "outputs": [
        {
          "output_type": "stream",
          "name": "stdout",
          "text": [
            "Cloning into 'spam-filter-naivebayes'...\n",
            "remote: Enumerating objects: 6, done.\u001b[K\n",
            "remote: Counting objects: 100% (6/6), done.\u001b[K\n",
            "remote: Compressing objects: 100% (5/5), done.\u001b[K\n",
            "remote: Total 6 (delta 0), reused 0 (delta 0), pack-reused 0\u001b[K\n",
            "Unpacking objects: 100% (6/6), done.\n"
          ]
        }
      ],
      "source": [
        "!git clone https://github.com/ShawnLiu119/spam-filter-naivebayes.git"
      ]
    },
    {
      "cell_type": "code",
      "source": [
        "import pandas as pd\n",
        "import numpy as np\n",
        "import matplotlib.pyplot as plt\n",
        "from sklearn import feature_extraction, model_selection, naive_bayes, metrics, svm\n",
        "import warnings\n",
        "warnings.filterwarnings(\"ignore\")\n",
        "%matplotlib inline "
      ],
      "metadata": {
        "id": "xbmx6E3m59Ha"
      },
      "execution_count": 17,
      "outputs": []
    },
    {
      "cell_type": "code",
      "source": [
        "!cd /content/spam-filter-naivebayes"
      ],
      "metadata": {
        "id": "wt3OGIVp6mpn"
      },
      "execution_count": 10,
      "outputs": []
    },
    {
      "cell_type": "code",
      "source": [
        "!ls"
      ],
      "metadata": {
        "colab": {
          "base_uri": "https://localhost:8080/"
        },
        "id": "LEG0lUmO78xd",
        "outputId": "f54430cb-d709-4dbd-c97e-a15e06dcbc7c"
      },
      "execution_count": 13,
      "outputs": [
        {
          "output_type": "stream",
          "name": "stdout",
          "text": [
            "README.md  spam.csv\n"
          ]
        }
      ]
    },
    {
      "cell_type": "code",
      "source": [
        "df = pd.read_csv('spam.csv', encoding='latin-1')\n",
        "#Latin-1 (or more formally, ISO-8859-1) is a character encoding standard. It defines a set of characters used for major western European languages.\n",
        "df.head()"
      ],
      "metadata": {
        "colab": {
          "base_uri": "https://localhost:8080/",
          "height": 206
        },
        "id": "Vop_lpr16UiJ",
        "outputId": "022b6c1d-9258-4b7d-82ab-9e747815c50c"
      },
      "execution_count": 31,
      "outputs": [
        {
          "output_type": "execute_result",
          "data": {
            "text/plain": [
              "     v1                                                 v2 Unnamed: 2  \\\n",
              "0   ham  Go until jurong point, crazy.. Available only ...        NaN   \n",
              "1   ham                      Ok lar... Joking wif u oni...        NaN   \n",
              "2  spam  Free entry in 2 a wkly comp to win FA Cup fina...        NaN   \n",
              "3   ham  U dun say so early hor... U c already then say...        NaN   \n",
              "4   ham  Nah I don't think he goes to usf, he lives aro...        NaN   \n",
              "\n",
              "  Unnamed: 3 Unnamed: 4  \n",
              "0        NaN        NaN  \n",
              "1        NaN        NaN  \n",
              "2        NaN        NaN  \n",
              "3        NaN        NaN  \n",
              "4        NaN        NaN  "
            ],
            "text/html": [
              "\n",
              "  <div id=\"df-8ed9375a-4eca-4fbe-a1aa-51620ebd0f32\">\n",
              "    <div class=\"colab-df-container\">\n",
              "      <div>\n",
              "<style scoped>\n",
              "    .dataframe tbody tr th:only-of-type {\n",
              "        vertical-align: middle;\n",
              "    }\n",
              "\n",
              "    .dataframe tbody tr th {\n",
              "        vertical-align: top;\n",
              "    }\n",
              "\n",
              "    .dataframe thead th {\n",
              "        text-align: right;\n",
              "    }\n",
              "</style>\n",
              "<table border=\"1\" class=\"dataframe\">\n",
              "  <thead>\n",
              "    <tr style=\"text-align: right;\">\n",
              "      <th></th>\n",
              "      <th>v1</th>\n",
              "      <th>v2</th>\n",
              "      <th>Unnamed: 2</th>\n",
              "      <th>Unnamed: 3</th>\n",
              "      <th>Unnamed: 4</th>\n",
              "    </tr>\n",
              "  </thead>\n",
              "  <tbody>\n",
              "    <tr>\n",
              "      <th>0</th>\n",
              "      <td>ham</td>\n",
              "      <td>Go until jurong point, crazy.. Available only ...</td>\n",
              "      <td>NaN</td>\n",
              "      <td>NaN</td>\n",
              "      <td>NaN</td>\n",
              "    </tr>\n",
              "    <tr>\n",
              "      <th>1</th>\n",
              "      <td>ham</td>\n",
              "      <td>Ok lar... Joking wif u oni...</td>\n",
              "      <td>NaN</td>\n",
              "      <td>NaN</td>\n",
              "      <td>NaN</td>\n",
              "    </tr>\n",
              "    <tr>\n",
              "      <th>2</th>\n",
              "      <td>spam</td>\n",
              "      <td>Free entry in 2 a wkly comp to win FA Cup fina...</td>\n",
              "      <td>NaN</td>\n",
              "      <td>NaN</td>\n",
              "      <td>NaN</td>\n",
              "    </tr>\n",
              "    <tr>\n",
              "      <th>3</th>\n",
              "      <td>ham</td>\n",
              "      <td>U dun say so early hor... U c already then say...</td>\n",
              "      <td>NaN</td>\n",
              "      <td>NaN</td>\n",
              "      <td>NaN</td>\n",
              "    </tr>\n",
              "    <tr>\n",
              "      <th>4</th>\n",
              "      <td>ham</td>\n",
              "      <td>Nah I don't think he goes to usf, he lives aro...</td>\n",
              "      <td>NaN</td>\n",
              "      <td>NaN</td>\n",
              "      <td>NaN</td>\n",
              "    </tr>\n",
              "  </tbody>\n",
              "</table>\n",
              "</div>\n",
              "      <button class=\"colab-df-convert\" onclick=\"convertToInteractive('df-8ed9375a-4eca-4fbe-a1aa-51620ebd0f32')\"\n",
              "              title=\"Convert this dataframe to an interactive table.\"\n",
              "              style=\"display:none;\">\n",
              "        \n",
              "  <svg xmlns=\"http://www.w3.org/2000/svg\" height=\"24px\"viewBox=\"0 0 24 24\"\n",
              "       width=\"24px\">\n",
              "    <path d=\"M0 0h24v24H0V0z\" fill=\"none\"/>\n",
              "    <path d=\"M18.56 5.44l.94 2.06.94-2.06 2.06-.94-2.06-.94-.94-2.06-.94 2.06-2.06.94zm-11 1L8.5 8.5l.94-2.06 2.06-.94-2.06-.94L8.5 2.5l-.94 2.06-2.06.94zm10 10l.94 2.06.94-2.06 2.06-.94-2.06-.94-.94-2.06-.94 2.06-2.06.94z\"/><path d=\"M17.41 7.96l-1.37-1.37c-.4-.4-.92-.59-1.43-.59-.52 0-1.04.2-1.43.59L10.3 9.45l-7.72 7.72c-.78.78-.78 2.05 0 2.83L4 21.41c.39.39.9.59 1.41.59.51 0 1.02-.2 1.41-.59l7.78-7.78 2.81-2.81c.8-.78.8-2.07 0-2.86zM5.41 20L4 18.59l7.72-7.72 1.47 1.35L5.41 20z\"/>\n",
              "  </svg>\n",
              "      </button>\n",
              "      \n",
              "  <style>\n",
              "    .colab-df-container {\n",
              "      display:flex;\n",
              "      flex-wrap:wrap;\n",
              "      gap: 12px;\n",
              "    }\n",
              "\n",
              "    .colab-df-convert {\n",
              "      background-color: #E8F0FE;\n",
              "      border: none;\n",
              "      border-radius: 50%;\n",
              "      cursor: pointer;\n",
              "      display: none;\n",
              "      fill: #1967D2;\n",
              "      height: 32px;\n",
              "      padding: 0 0 0 0;\n",
              "      width: 32px;\n",
              "    }\n",
              "\n",
              "    .colab-df-convert:hover {\n",
              "      background-color: #E2EBFA;\n",
              "      box-shadow: 0px 1px 2px rgba(60, 64, 67, 0.3), 0px 1px 3px 1px rgba(60, 64, 67, 0.15);\n",
              "      fill: #174EA6;\n",
              "    }\n",
              "\n",
              "    [theme=dark] .colab-df-convert {\n",
              "      background-color: #3B4455;\n",
              "      fill: #D2E3FC;\n",
              "    }\n",
              "\n",
              "    [theme=dark] .colab-df-convert:hover {\n",
              "      background-color: #434B5C;\n",
              "      box-shadow: 0px 1px 3px 1px rgba(0, 0, 0, 0.15);\n",
              "      filter: drop-shadow(0px 1px 2px rgba(0, 0, 0, 0.3));\n",
              "      fill: #FFFFFF;\n",
              "    }\n",
              "  </style>\n",
              "\n",
              "      <script>\n",
              "        const buttonEl =\n",
              "          document.querySelector('#df-8ed9375a-4eca-4fbe-a1aa-51620ebd0f32 button.colab-df-convert');\n",
              "        buttonEl.style.display =\n",
              "          google.colab.kernel.accessAllowed ? 'block' : 'none';\n",
              "\n",
              "        async function convertToInteractive(key) {\n",
              "          const element = document.querySelector('#df-8ed9375a-4eca-4fbe-a1aa-51620ebd0f32');\n",
              "          const dataTable =\n",
              "            await google.colab.kernel.invokeFunction('convertToInteractive',\n",
              "                                                     [key], {});\n",
              "          if (!dataTable) return;\n",
              "\n",
              "          const docLinkHtml = 'Like what you see? Visit the ' +\n",
              "            '<a target=\"_blank\" href=https://colab.research.google.com/notebooks/data_table.ipynb>data table notebook</a>'\n",
              "            + ' to learn more about interactive tables.';\n",
              "          element.innerHTML = '';\n",
              "          dataTable['output_type'] = 'display_data';\n",
              "          await google.colab.output.renderOutput(dataTable, element);\n",
              "          const docLink = document.createElement('div');\n",
              "          docLink.innerHTML = docLinkHtml;\n",
              "          element.appendChild(docLink);\n",
              "        }\n",
              "      </script>\n",
              "    </div>\n",
              "  </div>\n",
              "  "
            ]
          },
          "metadata": {},
          "execution_count": 31
        }
      ]
    },
    {
      "cell_type": "code",
      "source": [
        "df['v1'].value_counts().plot(kind='bar')\n",
        "plt.title('label distribution')\n",
        "plt.show()"
      ],
      "metadata": {
        "colab": {
          "base_uri": "https://localhost:8080/",
          "height": 299
        },
        "id": "HlKiVBxQ6fL3",
        "outputId": "9ddc14de-afd9-433e-ebd3-45c0fb321c32"
      },
      "execution_count": 32,
      "outputs": [
        {
          "output_type": "display_data",
          "data": {
            "text/plain": [
              "<Figure size 432x288 with 1 Axes>"
            ],
            "image/png": "[encoded data removed]"
          },
          "metadata": {
            "needs_background": "light"
          }
        }
      ]
    },
    {
      "cell_type": "code",
      "source": [
        "df['v1'].value_counts().plot(kind='pie', autopct='%1.0f%%') "
      ],
      "metadata": {
        "colab": {
          "base_uri": "https://localhost:8080/",
          "height": 266
        },
        "id": "HXH-9NGu-sm5",
        "outputId": "6b62cd59-0f54-4fb2-b4ac-e88fa51ab97e"
      },
      "execution_count": 33,
      "outputs": [
        {
          "output_type": "execute_result",
          "data": {
            "text/plain": [
              "<matplotlib.axes._subplots.AxesSubplot at 0x7ff33fb7f610>"
            ]
          },
          "metadata": {},
          "execution_count": 33
        },
        {
          "output_type": "display_data",
          "data": {
            "text/plain": [
              "<Figure size 432x288 with 1 Axes>"
            ],
            "image/png": "[encoded data removed]"
          },
          "metadata": {}
        }
      ]
    },
    {
      "cell_type": "markdown",
      "source": [
        "####Text Minning and Feature Engineering"
      ],
      "metadata": {
        "id": "2-2xpVtHAzPO"
      }
    },
    {
      "cell_type": "code",
      "source": [
        "df_raw = df.dropna(axis=1).rename(columns={'v1': 'category', 'v2': 'text'})"
      ],
      "metadata": {
        "id": "KQ7yJqHPNi9X"
      },
      "execution_count": 37,
      "outputs": []
    },
    {
      "cell_type": "code",
      "source": [
        "df_raw.head()"
      ],
      "metadata": {
        "colab": {
          "base_uri": "https://localhost:8080/",
          "height": 206
        },
        "id": "6YHZ2jq9OuZ-",
        "outputId": "7ed15874-ffd7-4058-e48f-98503b69315c"
      },
      "execution_count": 38,
      "outputs": [
        {
          "output_type": "execute_result",
          "data": {
            "text/plain": [
              "  category                                               text\n",
              "0      ham  Go until jurong point, crazy.. Available only ...\n",
              "1      ham                      Ok lar... Joking wif u oni...\n",
              "2     spam  Free entry in 2 a wkly comp to win FA Cup fina...\n",
              "3      ham  U dun say so early hor... U c already then say...\n",
              "4      ham  Nah I don't think he goes to usf, he lives aro..."
            ],
            "text/html": [
              "\n",
              "  <div id=\"df-8f38330b-0cf5-4f15-bd7e-1a7f8dc4ffe8\">\n",
              "    <div class=\"colab-df-container\">\n",
              "      <div>\n",
              "<style scoped>\n",
              "    .dataframe tbody tr th:only-of-type {\n",
              "        vertical-align: middle;\n",
              "    }\n",
              "\n",
              "    .dataframe tbody tr th {\n",
              "        vertical-align: top;\n",
              "    }\n",
              "\n",
              "    .dataframe thead th {\n",
              "        text-align: right;\n",
              "    }\n",
              "</style>\n",
              "<table border=\"1\" class=\"dataframe\">\n",
              "  <thead>\n",
              "    <tr style=\"text-align: right;\">\n",
              "      <th></th>\n",
              "      <th>category</th>\n",
              "      <th>text</th>\n",
              "    </tr>\n",
              "  </thead>\n",
              "  <tbody>\n",
              "    <tr>\n",
              "      <th>0</th>\n",
              "      <td>ham</td>\n",
              "      <td>Go until jurong point, crazy.. Available only ...</td>\n",
              "    </tr>\n",
              "    <tr>\n",
              "      <th>1</th>\n",
              "      <td>ham</td>\n",
              "      <td>Ok lar... Joking wif u oni...</td>\n",
              "    </tr>\n",
              "    <tr>\n",
              "      <th>2</th>\n",
              "      <td>spam</td>\n",
              "      <td>Free entry in 2 a wkly comp to win FA Cup fina...</td>\n",
              "    </tr>\n",
              "    <tr>\n",
              "      <th>3</th>\n",
              "      <td>ham</td>\n",
              "      <td>U dun say so early hor... U c already then say...</td>\n",
              "    </tr>\n",
              "    <tr>\n",
              "      <th>4</th>\n",
              "      <td>ham</td>\n",
              "      <td>Nah I don't think he goes to usf, he lives aro...</td>\n",
              "    </tr>\n",
              "  </tbody>\n",
              "</table>\n",
              "</div>\n",
              "      <button class=\"colab-df-convert\" onclick=\"convertToInteractive('df-8f38330b-0cf5-4f15-bd7e-1a7f8dc4ffe8')\"\n",
              "              title=\"Convert this dataframe to an interactive table.\"\n",
              "              style=\"display:none;\">\n",
              "        \n",
              "  <svg xmlns=\"http://www.w3.org/2000/svg\" height=\"24px\"viewBox=\"0 0 24 24\"\n",
              "       width=\"24px\">\n",
              "    <path d=\"M0 0h24v24H0V0z\" fill=\"none\"/>\n",
              "    <path d=\"M18.56 5.44l.94 2.06.94-2.06 2.06-.94-2.06-.94-.94-2.06-.94 2.06-2.06.94zm-11 1L8.5 8.5l.94-2.06 2.06-.94-2.06-.94L8.5 2.5l-.94 2.06-2.06.94zm10 10l.94 2.06.94-2.06 2.06-.94-2.06-.94-.94-2.06-.94 2.06-2.06.94z\"/><path d=\"M17.41 7.96l-1.37-1.37c-.4-.4-.92-.59-1.43-.59-.52 0-1.04.2-1.43.59L10.3 9.45l-7.72 7.72c-.78.78-.78 2.05 0 2.83L4 21.41c.39.39.9.59 1.41.59.51 0 1.02-.2 1.41-.59l7.78-7.78 2.81-2.81c.8-.78.8-2.07 0-2.86zM5.41 20L4 18.59l7.72-7.72 1.47 1.35L5.41 20z\"/>\n",
              "  </svg>\n",
              "      </button>\n",
              "      \n",
              "  <style>\n",
              "    .colab-df-container {\n",
              "      display:flex;\n",
              "      flex-wrap:wrap;\n",
              "      gap: 12px;\n",
              "    }\n",
              "\n",
              "    .colab-df-convert {\n",
              "      background-color: #E8F0FE;\n",
              "      border: none;\n",
              "      border-radius: 50%;\n",
              "      cursor: pointer;\n",
              "      display: none;\n",
              "      fill: #1967D2;\n",
              "      height: 32px;\n",
              "      padding: 0 0 0 0;\n",
              "      width: 32px;\n",
              "    }\n",
              "\n",
              "    .colab-df-convert:hover {\n",
              "      background-color: #E2EBFA;\n",
              "      box-shadow: 0px 1px 2px rgba(60, 64, 67, 0.3), 0px 1px 3px 1px rgba(60, 64, 67, 0.15);\n",
              "      fill: #174EA6;\n",
              "    }\n",
              "\n",
              "    [theme=dark] .colab-df-convert {\n",
              "      background-color: #3B4455;\n",
              "      fill: #D2E3FC;\n",
              "    }\n",
              "\n",
              "    [theme=dark] .colab-df-convert:hover {\n",
              "      background-color: #434B5C;\n",
              "      box-shadow: 0px 1px 3px 1px rgba(0, 0, 0, 0.15);\n",
              "      filter: drop-shadow(0px 1px 2px rgba(0, 0, 0, 0.3));\n",
              "      fill: #FFFFFF;\n",
              "    }\n",
              "  </style>\n",
              "\n",
              "      <script>\n",
              "        const buttonEl =\n",
              "          document.querySelector('#df-8f38330b-0cf5-4f15-bd7e-1a7f8dc4ffe8 button.colab-df-convert');\n",
              "        buttonEl.style.display =\n",
              "          google.colab.kernel.accessAllowed ? 'block' : 'none';\n",
              "\n",
              "        async function convertToInteractive(key) {\n",
              "          const element = document.querySelector('#df-8f38330b-0cf5-4f15-bd7e-1a7f8dc4ffe8');\n",
              "          const dataTable =\n",
              "            await google.colab.kernel.invokeFunction('convertToInteractive',\n",
              "                                                     [key], {});\n",
              "          if (!dataTable) return;\n",
              "\n",
              "          const docLinkHtml = 'Like what you see? Visit the ' +\n",
              "            '<a target=\"_blank\" href=https://colab.research.google.com/notebooks/data_table.ipynb>data table notebook</a>'\n",
              "            + ' to learn more about interactive tables.';\n",
              "          element.innerHTML = '';\n",
              "          dataTable['output_type'] = 'display_data';\n",
              "          await google.colab.output.renderOutput(dataTable, element);\n",
              "          const docLink = document.createElement('div');\n",
              "          docLink.innerHTML = docLinkHtml;\n",
              "          element.appendChild(docLink);\n",
              "        }\n",
              "      </script>\n",
              "    </div>\n",
              "  </div>\n",
              "  "
            ]
          },
          "metadata": {},
          "execution_count": 38
        }
      ]
    },
    {
      "cell_type": "code",
      "source": [
        "df_raw['y'] = df_raw['category'].apply(lambda x: 1 if x == 'spam' else 0)\n",
        "df_raw['y'].value_counts()"
      ],
      "metadata": {
        "colab": {
          "base_uri": "https://localhost:8080/"
        },
        "id": "-BTeuNgnNvmX",
        "outputId": "7726a9d0-3830-4274-a8a2-c3c46150c939"
      },
      "execution_count": 41,
      "outputs": [
        {
          "output_type": "execute_result",
          "data": {
            "text/plain": [
              "0    4825\n",
              "1     747\n",
              "Name: y, dtype: int64"
            ]
          },
          "metadata": {},
          "execution_count": 41
        }
      ]
    },
    {
      "cell_type": "code",
      "source": [
        "#train test split\n",
        "from sklearn.model_selection import train_test_split\n",
        "\n",
        "x = df_raw['text']\n",
        "y = df_raw['y']\n",
        "\n",
        "x_train, x_test, y_train, y_test = train_test_split(x, y, test_size=0.25)"
      ],
      "metadata": {
        "id": "_roRH5QnOhK2"
      },
      "execution_count": 42,
      "outputs": []
    },
    {
      "cell_type": "markdown",
      "source": [
        "TF-IDF is better than Count Vectorizers because it not only focuses on the frequency of words present in the corpus but also provides the importance of the words. We can then remove the words that are less important for analysis, hence making the model building less complex by reducing the input dimensions."
      ],
      "metadata": {
        "id": "3irkSS4UQLB8"
      }
    },
    {
      "cell_type": "markdown",
      "source": [
        "#####CountVectorizer"
      ],
      "metadata": {
        "id": "XyIsKDHpZ1oH"
      }
    },
    {
      "cell_type": "code",
      "source": [
        "# here we will test out both TFIDF and CountVectorizer\n",
        "\n",
        "from sklearn.feature_extraction.text import CountVectorizer\n",
        "#ngram_rangetuple (min_n, max_n), default=(1, 1), default analzer is 'word', \n",
        "\n",
        "corpus_train = x_train.to_numpy()\n",
        "corpus_test = x_test.to_numpy()\n",
        "\n",
        "#unigram\n",
        "vect_uni = CountVectorizer(min_df=50) #min_df, if words appear infrequently (less than 50 times), removing terms\n",
        "train_uni = vect_uni.fit_transform(corpus_train).toarray()\n",
        "test_uni = vect_uni.transform(corpus_test).toarray()\n",
        "\n",
        "#bigram\n",
        "vect_bi = CountVectorizer(analyzer='word', ngram_range=(2,2), min_df=10)\n",
        "train_bi = vect_bi.fit_transform(corpus_train).toarray()\n",
        "test_bi = vect_bi.transform(corpus_test).toarray()\n",
        "\n",
        "x_train_vec = np.concatenate((train_uni, train_bi), axis = 1)\n",
        "x_test_vec = np.concatenate((test_uni, test_bi), axis = 1)"
      ],
      "metadata": {
        "id": "yUKo2KyDP4mc"
      },
      "execution_count": 106,
      "outputs": []
    },
    {
      "cell_type": "code",
      "source": [
        "np.unique(x_train_vec)"
      ],
      "metadata": {
        "colab": {
          "base_uri": "https://localhost:8080/"
        },
        "id": "oa9umL13hHxP",
        "outputId": "b8e6d1fd-7f1e-46c9-c9d3-96be9a1824e5"
      },
      "execution_count": 119,
      "outputs": [
        {
          "output_type": "execute_result",
          "data": {
            "text/plain": [
              "array([ 0,  1,  2,  3,  4,  5,  6,  7,  8,  9, 12, 18])"
            ]
          },
          "metadata": {},
          "execution_count": 119
        }
      ]
    },
    {
      "cell_type": "code",
      "source": [
        "print(x_train_vec.shape)\n",
        "print(x_test_vec.shape) \n",
        "print(y_train.shape)  \n",
        "print(y_test.shape)  "
      ],
      "metadata": {
        "colab": {
          "base_uri": "https://localhost:8080/"
        },
        "id": "nlRN_XyDaMoA",
        "outputId": "e99ac7cd-f7e7-468d-ef91-e1d1e249fcf8"
      },
      "execution_count": 108,
      "outputs": [
        {
          "output_type": "stream",
          "name": "stdout",
          "text": [
            "(4179, 574)\n",
            "(1393, 574)\n",
            "(4179,)\n",
            "(1393,)\n"
          ]
        }
      ]
    },
    {
      "cell_type": "code",
      "source": [
        "#model trainging using NB\n",
        "\n",
        "from sklearn.naive_bayes import MultinomialNB\n",
        "from sklearn.metrics import classification_report, accuracy_score\n",
        "\n",
        "nb = MultinomialNB()\n",
        "nb.fit(x_train_vec, y_train)  \n",
        "y_pred = nb.predict(x_test_vec)\n",
        "\n",
        "print(f'Accuracy: {round(accuracy_score(y_test,y_pred),3)}\\n')\n",
        "print(classification_report(y_test,y_pred))\n",
        "\n",
        "# from sklearn.model_selection import GridSearchCV\n",
        "\n",
        "# parameters = {\"alpha\": [0.2,1,2,5,10], \"fit_prior\": [True, False]}\n",
        "#alpha: Additive (Laplace/Lidstone) smoothing parameter (0 for no smoothing).\n",
        "#fit_prior: Whether to learn class prior probabilities or not. If false, a uniform prior will be used."
      ],
      "metadata": {
        "colab": {
          "base_uri": "https://localhost:8080/"
        },
        "id": "d2cjdXFoYgaw",
        "outputId": "9f8a8333-74c8-4a5f-c392-e441c860c042"
      },
      "execution_count": 109,
      "outputs": [
        {
          "output_type": "stream",
          "name": "stdout",
          "text": [
            "Accuracy: 0.966\n",
            "\n",
            "              precision    recall  f1-score   support\n",
            "\n",
            "           0       0.98      0.98      0.98      1193\n",
            "           1       0.89      0.87      0.88       200\n",
            "\n",
            "    accuracy                           0.97      1393\n",
            "   macro avg       0.94      0.93      0.93      1393\n",
            "weighted avg       0.97      0.97      0.97      1393\n",
            "\n"
          ]
        }
      ]
    },
    {
      "cell_type": "markdown",
      "source": [
        "#####TFIDF Vectorizer"
      ],
      "metadata": {
        "id": "euHOJ3-edfvW"
      }
    },
    {
      "cell_type": "code",
      "source": [
        "from sklearn.feature_extraction.text import TfidfVectorizer\n",
        "\n",
        "tfidfvc = TfidfVectorizer()\n",
        "\n",
        "corpus_train = x_train.to_numpy()\n",
        "corpus_test = x_test.to_numpy()\n",
        "\n",
        "#unigram\n",
        "vect_uni = TfidfVectorizer(min_df=50) #min_df, if words appear infrequently (less than 50 times), removing terms\n",
        "train_uni = vect_uni.fit_transform(corpus_train).toarray()\n",
        "test_uni = vect_uni.transform(corpus_test).toarray()\n",
        "\n",
        "#bigram\n",
        "vect_bi = TfidfVectorizer(analyzer='word', ngram_range=(2,2), min_df=10)\n",
        "train_bi = vect_bi.fit_transform(corpus_train).toarray()\n",
        "test_bi = vect_bi.transform(corpus_test).toarray()\n",
        "\n",
        "x_train_tfidf = np.concatenate((train_uni, train_bi), axis = 1)\n",
        "x_test_tfidf = np.concatenate((test_uni, test_bi), axis = 1)\n"
      ],
      "metadata": {
        "id": "Tp341r5uYUa2"
      },
      "execution_count": 110,
      "outputs": []
    },
    {
      "cell_type": "code",
      "source": [
        "print(x_train_tfidf.shape)\n",
        "print(x_test_tfidf.shape) \n",
        "print(y_train.shape)  \n",
        "print(y_test.shape)  "
      ],
      "metadata": {
        "colab": {
          "base_uri": "https://localhost:8080/"
        },
        "id": "KUg1RoAVYUX3",
        "outputId": "37df5fe7-b11d-41e7-d802-f48f916865c2"
      },
      "execution_count": 111,
      "outputs": [
        {
          "output_type": "stream",
          "name": "stdout",
          "text": [
            "(4179, 574)\n",
            "(1393, 574)\n",
            "(4179,)\n",
            "(1393,)\n"
          ]
        }
      ]
    },
    {
      "cell_type": "code",
      "source": [
        "nb_tf = MultinomialNB()\n",
        "nb_tf.fit(x_train_tfidf, y_train)  \n",
        "y_pred_tf = nb.predict(x_test_tfidf)\n",
        "\n",
        "print(f'Accuracy: {round(accuracy_score(y_test,y_pred_tf),3)}\\n')\n",
        "print(classification_report(y_test,y_pred_tf))"
      ],
      "metadata": {
        "colab": {
          "base_uri": "https://localhost:8080/"
        },
        "id": "Sn9PUGAIYUVH",
        "outputId": "c1932988-4e96-4e6b-8faa-0cc62496c03f"
      },
      "execution_count": 112,
      "outputs": [
        {
          "output_type": "stream",
          "name": "stdout",
          "text": [
            "Accuracy: 0.961\n",
            "\n",
            "              precision    recall  f1-score   support\n",
            "\n",
            "           0       0.97      0.99      0.98      1193\n",
            "           1       0.91      0.81      0.86       200\n",
            "\n",
            "    accuracy                           0.96      1393\n",
            "   macro avg       0.94      0.90      0.92      1393\n",
            "weighted avg       0.96      0.96      0.96      1393\n",
            "\n"
          ]
        }
      ]
    },
    {
      "cell_type": "code",
      "source": [
        "#Observation\n",
        "\n",
        "#For class 1, model (TFIDF) has higher precision but lower recall than model (CountVecter); \n",
        "#meaning that TFIDF model intend to miss spam email more easily, or less likely to reject the null hypothesis (ham)\n",
        "\n",
        "#why? \n",
        "# There are a few possibilities. First, there is some variability in performance. \n",
        "# It could have been only by chance that countvectorizer performed better than tf-idf. \n",
        "# Did you use cross validation (with how many folds)? \n",
        "# Is the superior performance of the countvectorizer reliable? \n",
        "# I would compare performance across folds to make sure countvectorizer consistently performs better.\n",
        "\n",
        "# # Second, if you find that countvectorizer reliably outperforms tf-idf on your dataset, \n",
        "# then I would dig deeper into the words that are driving this effect. \n",
        "# It may be that common words (words which will appear in multiple documents) are helpful in distinguishing between classes. \n",
        "# There is substantial research that shows that use of some function words (e.g. first person singular pronouns, “I”) change depending on someone’s psychological state. \n",
        "# Function words like pronouns are very common and would be down weighted in tf-idf, but given equal weight to rare words in countvectorizer. \n",
        "# I’m not suggesting that first person singular pronouns in particular are driving your results, but it’s worth looking at what words are driving the effect. \n",
        "# I would examine which words are important in both types of models, countvectorizer and tf-idf, and then think about whether the words that are most important for the countvectorizer make sense in the context of your text documents and labels. Also, are you removing stop words? \n",
        "# You could also see how the models perform with and without stop words, which would be another way to test whether frequent words are actually helping you to distinguish between classes."
      ],
      "metadata": {
        "id": "64_OtYSyTJh2"
      },
      "execution_count": null,
      "outputs": []
    },
    {
      "cell_type": "code",
      "source": [],
      "metadata": {
        "id": "u78JVOafTJfF"
      },
      "execution_count": null,
      "outputs": []
    },
    {
      "cell_type": "markdown",
      "source": [
        "Build Bayes from scratch\n",
        "\n",
        "\n",
        "1.   p-words function generate the features, which represents the probability of each word appearing in either spam or ham\n",
        "2.   Naive_bayes function goes through every email, and calculate log probability, using += to calculate the P(x1x2x3...xn spam/ham), x1,x2,x3 are words features in test data of emails, if p(x, spam) > p(x, ham), then p(x, spam) / (p(x, spam) + p(x, ham)) > 0.5, then classified as positive 1\n",
        "\n",
        "The reason using log probability is because when you start multiplying them together, the overall product starts approaching zero.\n",
        "This is exacerbated by each new feature that is added: with 1,000 features, multiplying 1,000\n",
        "probabilities together quickly results in an extremely tiny number, one which often cannot be\n",
        "represented in a double or long double. This issue is not limited to C++; every language\n",
        "which uses a standard floating-point data type with a fixed number of bits will eventually\n",
        "run out of precision with extremely tiny numbers.\n",
        "\n",
        "A common work-around for this situation is to represent probabilities as log-probabilities\n",
        "instead. \n",
        "\n"
      ],
      "metadata": {
        "id": "S4OgJPzSTKDk"
      }
    },
    {
      "cell_type": "code",
      "source": [
        "uni_vocabulary = vect_uni.get_feature_names_out()\n",
        "counts_uni = c_uni.toarray()\n",
        "\n",
        "bi_vocabulary = vect_bi.get_feature_names_out()\n",
        "counts_bi = c_bi.toarray()"
      ],
      "metadata": {
        "id": "ptUBnS5hBDLd"
      },
      "execution_count": 82,
      "outputs": []
    },
    {
      "cell_type": "code",
      "source": [
        "x_train_uni = pd.DataFrame()  #panda series can not use drop() column, since there is no column name in pd.series\n",
        "x_train_bi = pd.DataFrame()\n",
        "\n",
        "\n",
        "for i in range(len(uni_vocabulary)):\n",
        "    x_train_uni[uni_vocabulary[i]] = counts_uni[:,i] \n",
        "\n",
        "for j in range(len(bi_vocabulary)):\n",
        "    x_train_bi[bi_vocabulary[j]] = counts_bi[:,j]"
      ],
      "metadata": {
        "id": "8_rEPBjlEd5-"
      },
      "execution_count": 97,
      "outputs": []
    },
    {
      "cell_type": "code",
      "source": [
        "#https://www.kaggle.com/code/misbahbilgili/spam-filter-using-naive-bayes-from-scratch"
      ],
      "metadata": {
        "id": "_7ZKOsucTRQk"
      },
      "execution_count": 99,
      "outputs": []
    },
    {
      "cell_type": "code",
      "source": [
        "def P_words(spam,ham,vocabulary):\n",
        "    \n",
        "    dict_prob = {} #For each word in vocabulary consist P(word|spam) and P(word|ham)\n",
        "    for word in vocabulary:\n",
        "        #P(word|spam) = [num(word,spam) + @] / [num(spam) + @*len(vocabulary)]\n",
        "        #P(word|ham) = [num(word,ham) + @]/ [num(ham) + @*len(vocabulary)]\n",
        "        ##num(X) --> number of occurences of X. We chose @ = 1.\n",
        "        p_word_given_spam = (len(spam[spam[word] != 0])+1)/(len(spam)+len(vocabulary))\n",
        "        p_word_given_ham = (len(ham[ham[word] != 0])+1)/(len(ham)+len(vocabulary))\n",
        "        \n",
        "        dict_prob[word] = {'spam': p_word_given_spam, 'ham': p_word_given_ham}\n",
        "\n",
        "    return dict_prob"
      ],
      "metadata": {
        "id": "t-VaOLqjS_Po"
      },
      "execution_count": null,
      "outputs": []
    },
    {
      "cell_type": "code",
      "source": [
        "def Naive_Bayes(X_train,y_train,X_test,vocabulary,unigram):\n",
        "    \n",
        "    training_set = X_train.copy()\n",
        "    training_set['spam'] = y_train #Adding the label to training set.\n",
        "\n",
        "    spam = training_set[training_set['spam'] == 1] #All mails in training set that are spam\n",
        "    ham = training_set[training_set['spam'] == 0]  #All mails in training set that are ham\n",
        "\n",
        "    dict_prob = P_words(spam,ham,vocabulary)\n",
        "\n",
        "    P_spam = len(spam)/len(training_set)#P(spam)\n",
        "    P_ham = len(ham)/len(training_set)#P(ham)  \n",
        "    \n",
        "    #Vectorizing the test set\n",
        "    corpus = X_test['text'].to_numpy()\n",
        "    if(unigram):\n",
        "        vectorizer_test = CountVectorizer(min_df = 20)\n",
        "    else:\n",
        "        vectorizer_test = CountVectorizer(analyzer='word', ngram_range=(2, 2), min_df = 20)\n",
        "        \n",
        "    C_test = vectorizer_test.fit_transform(corpus)    \n",
        "    \n",
        "    test_set = C_test.toarray() #Counts of words in test_vocab for each mail\n",
        "    test_vocab = vectorizer_test.get_feature_names() #Vocabulary of test set\n",
        "    \n",
        "    results = list() \n",
        "    for row in test_set: #For each mail\n",
        "        P_spamWord = math.log(P_spam)\n",
        "        P_hamWord = math.log(P_ham)\n",
        "        for w_index in range(len(row)):\n",
        "            if(row[w_index] != 0): #If word exists in the mail\n",
        "                word = test_vocab[w_index]\n",
        "                if(word in dict_prob): #If this word is also in training vocabulary\n",
        "                    P_spamWord += math.log(dict_prob[word]['spam'])\n",
        "                    P_hamWord += math.log(dict_prob[word]['ham'])\n",
        "                else:\n",
        "                    continue  #Ignoring the words we have not seen.\n",
        "            else:\n",
        "                continue\n",
        "        if(P_spamWord>P_hamWord):\n",
        "            results.append(1) #Spam\n",
        "        else:\n",
        "            results.append(0) #Ham\n",
        "            \n",
        "    return results"
      ],
      "metadata": {
        "id": "MQNLOLqPFTRE"
      },
      "execution_count": null,
      "outputs": []
    }
  ]
}